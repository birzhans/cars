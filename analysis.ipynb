{
 "cells": [
  {
   "cell_type": "code",
   "execution_count": 1,
   "metadata": {},
   "outputs": [],
   "source": [
    "import pandas as pd"
   ]
  },
  {
   "cell_type": "code",
   "execution_count": 9,
   "metadata": {},
   "outputs": [],
   "source": [
    "data = pd.read_csv('dataset.csv', sep=';')"
   ]
  },
  {
   "cell_type": "code",
   "execution_count": 10,
   "metadata": {},
   "outputs": [],
   "source": [
    "cols = data.columns"
   ]
  },
  {
   "cell_type": "code",
   "execution_count": 13,
   "metadata": {},
   "outputs": [
    {
     "data": {
      "text/plain": [
       "array(['Nissan', 'Mitsubishi', 'ВАЗ (Lada)', 'Porsche', 'JAC', 'Toyota',\n",
       "       'Chevrolet', 'Volkswagen', 'Mercedes-Benz', 'Ford', 'Audi',\n",
       "       'Suzuki', 'Peugeot', 'BMW', 'Hyundai', 'Kia', 'Opel', 'Lexus',\n",
       "       'Hummer', 'Land Rover', 'Daewoo', 'Cadillac', 'ГАЗ', 'Renault',\n",
       "       'Subaru', 'Dodge', 'Lifan', 'УАЗ', 'Infiniti', 'GMC', 'ИЖ',\n",
       "       'Skoda', 'Mazda', 'Ravon', 'Honda', 'Foton', 'Jaguar', 'Tesla',\n",
       "       'Rover', 'Mini', 'SsangYong', 'Geely', 'Great Wall', 'Volvo',\n",
       "       'Chrysler', 'Lincoln', 'Mercedes-Maybach', 'Fiat', 'Jeep', 'Isuzu',\n",
       "       'Москвич', 'Renault Samsung', 'Maserati', 'Citroen', 'Chery',\n",
       "       'Bentley', 'ЗАЗ', 'Datsun', 'ТагАЗ', 'FAW', 'Scion', 'BYD', 'Seat',\n",
       "       'Changan', 'Genesis', 'Acura', 'Saab', 'Lancia', 'Haima', 'РАФ',\n",
       "       'MG', 'Wuling', 'Pontiac', 'ZX', 'Ретро-автомобили', 'DongFeng',\n",
       "       'Maybach', 'Mercury', 'Bugatti', 'Daihatsu', 'ВИС', 'Rolls-Royce',\n",
       "       'Saturn', 'BAIC', 'ЛуАЗ', 'Alfa Romeo', 'Tianye'], dtype=object)"
      ]
     },
     "execution_count": 13,
     "metadata": {},
     "output_type": "execute_result"
    }
   ],
   "source": [
    "data['Бренд'].unique()"
   ]
  },
  {
   "cell_type": "code",
   "execution_count": 14,
   "metadata": {},
   "outputs": [
    {
     "data": {
      "text/html": [
       "<div>\n",
       "<style scoped>\n",
       "    .dataframe tbody tr th:only-of-type {\n",
       "        vertical-align: middle;\n",
       "    }\n",
       "\n",
       "    .dataframe tbody tr th {\n",
       "        vertical-align: top;\n",
       "    }\n",
       "\n",
       "    .dataframe thead th {\n",
       "        text-align: right;\n",
       "    }\n",
       "</style>\n",
       "<table border=\"1\" class=\"dataframe\">\n",
       "  <thead>\n",
       "    <tr style=\"text-align: right;\">\n",
       "      <th></th>\n",
       "      <th>Unnamed: 0</th>\n",
       "      <th>Бренд</th>\n",
       "      <th>Модель</th>\n",
       "      <th>Год</th>\n",
       "      <th>Город</th>\n",
       "      <th>Кузов</th>\n",
       "      <th>Объем двигателя, л</th>\n",
       "      <th>Пробег</th>\n",
       "      <th>Коробка передач</th>\n",
       "      <th>Руль</th>\n",
       "      <th>Цвет</th>\n",
       "      <th>Привод</th>\n",
       "      <th>Растаможен в Казахстане</th>\n",
       "      <th>Цена</th>\n",
       "      <th>Средння цена</th>\n",
       "      <th>Ссылка</th>\n",
       "      <th>Вид топлива</th>\n",
       "    </tr>\n",
       "  </thead>\n",
       "  <tbody>\n",
       "    <tr>\n",
       "      <th>0</th>\n",
       "      <td>0</td>\n",
       "      <td>Nissan</td>\n",
       "      <td>Primera</td>\n",
       "      <td>1995</td>\n",
       "      <td>Шымкент</td>\n",
       "      <td>седан</td>\n",
       "      <td>1.6</td>\n",
       "      <td>319214</td>\n",
       "      <td>механика</td>\n",
       "      <td>слева</td>\n",
       "      <td>серебристый</td>\n",
       "      <td>передний привод</td>\n",
       "      <td>True</td>\n",
       "      <td>319214</td>\n",
       "      <td>993000</td>\n",
       "      <td>https://kolesa.kz/a/show/112711467</td>\n",
       "      <td>бензин</td>\n",
       "    </tr>\n",
       "    <tr>\n",
       "      <th>1</th>\n",
       "      <td>1</td>\n",
       "      <td>Mitsubishi</td>\n",
       "      <td>L200</td>\n",
       "      <td>2020</td>\n",
       "      <td>Алматы</td>\n",
       "      <td>пикап</td>\n",
       "      <td>2.4</td>\n",
       "      <td>140000</td>\n",
       "      <td>механика</td>\n",
       "      <td>слева</td>\n",
       "      <td>белый</td>\n",
       "      <td>полный привод</td>\n",
       "      <td>True</td>\n",
       "      <td>140000</td>\n",
       "      <td>0</td>\n",
       "      <td>https://kolesa.kz/a/show/112530869</td>\n",
       "      <td>дизель</td>\n",
       "    </tr>\n",
       "    <tr>\n",
       "      <th>2</th>\n",
       "      <td>2</td>\n",
       "      <td>ВАЗ (Lada)</td>\n",
       "      <td>2115 (седан)</td>\n",
       "      <td>2007</td>\n",
       "      <td>Актобе</td>\n",
       "      <td>седан</td>\n",
       "      <td>1.5</td>\n",
       "      <td>140000</td>\n",
       "      <td>механика</td>\n",
       "      <td>слева</td>\n",
       "      <td>зеленый</td>\n",
       "      <td>передний привод</td>\n",
       "      <td>False</td>\n",
       "      <td>140000</td>\n",
       "      <td>982000</td>\n",
       "      <td>https://kolesa.kz/a/show/112633046</td>\n",
       "      <td>бензин</td>\n",
       "    </tr>\n",
       "    <tr>\n",
       "      <th>3</th>\n",
       "      <td>3</td>\n",
       "      <td>Porsche</td>\n",
       "      <td>Cayenne Coupe</td>\n",
       "      <td>2020</td>\n",
       "      <td>Нур-Султан (Астана)</td>\n",
       "      <td>кроссовер</td>\n",
       "      <td>3.0</td>\n",
       "      <td>140000</td>\n",
       "      <td>автомат</td>\n",
       "      <td>слева</td>\n",
       "      <td>белый</td>\n",
       "      <td>полный привод</td>\n",
       "      <td>True</td>\n",
       "      <td>140000</td>\n",
       "      <td>0</td>\n",
       "      <td>https://kolesa.kz/a/show/112082674</td>\n",
       "      <td>бензин</td>\n",
       "    </tr>\n",
       "    <tr>\n",
       "      <th>4</th>\n",
       "      <td>4</td>\n",
       "      <td>JAC</td>\n",
       "      <td>T6</td>\n",
       "      <td>2020</td>\n",
       "      <td>Костанай</td>\n",
       "      <td>пикап</td>\n",
       "      <td>2.0</td>\n",
       "      <td>140000</td>\n",
       "      <td>механика</td>\n",
       "      <td>слева</td>\n",
       "      <td>белый</td>\n",
       "      <td>полный привод</td>\n",
       "      <td>True</td>\n",
       "      <td>140000</td>\n",
       "      <td>0</td>\n",
       "      <td>https://kolesa.kz/a/show/111227748</td>\n",
       "      <td>дизель</td>\n",
       "    </tr>\n",
       "  </tbody>\n",
       "</table>\n",
       "</div>"
      ],
      "text/plain": [
       "   Unnamed: 0       Бренд         Модель   Год                Город  \\\n",
       "0           0      Nissan        Primera  1995              Шымкент   \n",
       "1           1  Mitsubishi           L200  2020               Алматы   \n",
       "2           2  ВАЗ (Lada)   2115 (седан)  2007               Актобе   \n",
       "3           3     Porsche  Cayenne Coupe  2020  Нур-Султан (Астана)   \n",
       "4           4         JAC             T6  2020             Костанай   \n",
       "\n",
       "       Кузов  Объем двигателя, л  Пробег Коробка передач   Руль         Цвет  \\\n",
       "0      седан                 1.6  319214        механика  слева  серебристый   \n",
       "1      пикап                 2.4  140000        механика  слева        белый   \n",
       "2      седан                 1.5  140000        механика  слева      зеленый   \n",
       "3  кроссовер                 3.0  140000         автомат  слева        белый   \n",
       "4      пикап                 2.0  140000        механика  слева        белый   \n",
       "\n",
       "            Привод  Растаможен в Казахстане    Цена  Средння цена  \\\n",
       "0  передний привод                     True  319214        993000   \n",
       "1    полный привод                     True  140000             0   \n",
       "2  передний привод                    False  140000        982000   \n",
       "3    полный привод                     True  140000             0   \n",
       "4    полный привод                     True  140000             0   \n",
       "\n",
       "                               Ссылка Вид топлива  \n",
       "0  https://kolesa.kz/a/show/112711467      бензин  \n",
       "1  https://kolesa.kz/a/show/112530869      дизель  \n",
       "2  https://kolesa.kz/a/show/112633046      бензин  \n",
       "3  https://kolesa.kz/a/show/112082674      бензин  \n",
       "4  https://kolesa.kz/a/show/111227748      дизель  "
      ]
     },
     "execution_count": 14,
     "metadata": {},
     "output_type": "execute_result"
    }
   ],
   "source": [
    "data.head()"
   ]
  },
  {
   "cell_type": "code",
   "execution_count": null,
   "metadata": {},
   "outputs": [],
   "source": []
  },
  {
   "cell_type": "code",
   "execution_count": null,
   "metadata": {},
   "outputs": [],
   "source": []
  },
  {
   "cell_type": "code",
   "execution_count": null,
   "metadata": {},
   "outputs": [],
   "source": []
  },
  {
   "cell_type": "code",
   "execution_count": null,
   "metadata": {},
   "outputs": [],
   "source": []
  },
  {
   "cell_type": "code",
   "execution_count": null,
   "metadata": {},
   "outputs": [],
   "source": []
  },
  {
   "cell_type": "code",
   "execution_count": null,
   "metadata": {},
   "outputs": [],
   "source": []
  },
  {
   "cell_type": "code",
   "execution_count": null,
   "metadata": {},
   "outputs": [],
   "source": []
  }
 ],
 "metadata": {
  "kernelspec": {
   "display_name": "Python 3",
   "language": "python",
   "name": "python3"
  },
  "language_info": {
   "codemirror_mode": {
    "name": "ipython",
    "version": 3
   },
   "file_extension": ".py",
   "mimetype": "text/x-python",
   "name": "python",
   "nbconvert_exporter": "python",
   "pygments_lexer": "ipython3",
   "version": "3.8.3"
  }
 },
 "nbformat": 4,
 "nbformat_minor": 4
}
